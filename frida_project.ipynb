{
 "cells": [
  {
   "cell_type": "markdown",
   "source": [
    "# Frida Kahlo Exhibition\n",
    "\n",
    "You've been hired to work on a retrospective of Frida Kahlo's work at a major museum. Your job is to put together the audio tour, but in order to do that you need to create a list of each painting featured in the exhibit, the date it was painted, and its spot in the tour. \n",
    "\n",
    "Use your knowledge of Python lists to create a master list of each painting, its date, and its audio tour ID. \n"
   ],
   "metadata": {}
  },
  {
   "cell_type": "markdown",
   "source": [
    "## Task 1\r\n",
    "First, create a list called `paintings` and add the following titles to it:\r\n",
    "\r\n",
    "`The Two Fridas, My Dress Hangs Here, Tree of Hope, Self Portrait With Monkeys`\r\n"
   ],
   "metadata": {}
  },
  {
   "cell_type": "code",
   "execution_count": 2,
   "source": [
    "paintings = ['The Two Fridas', 'My Dress Hangs Here', 'Tree of Hope', 'Self Portrait With Monkeys']"
   ],
   "outputs": [],
   "metadata": {
    "collapsed": true
   }
  },
  {
   "cell_type": "markdown",
   "source": [
    "## Task 2\n",
    "\n",
    "Next, create a second list called `dates` and give it the following values:\n",
    "`1939, 1933, 1946, 1940`"
   ],
   "metadata": {}
  },
  {
   "cell_type": "code",
   "execution_count": 3,
   "source": [
    "dates = [1939, 1933, 1946, 1940]"
   ],
   "outputs": [],
   "metadata": {
    "collapsed": true
   }
  },
  {
   "cell_type": "markdown",
   "source": [
    "## Task 3 \n",
    "It doesn't do much good to have the paintings without their dates, and vice versa. \n",
    "Zip together the two lists so that each painting is paired with its date and resave it to the `paintings` variable. Make sure to convert the zipped object into a list using the `list()` function. Print the results to the terminal to check your work. "
   ],
   "metadata": {}
  },
  {
   "cell_type": "code",
   "execution_count": 4,
   "source": [
    "paintings = list(zip(paintings, dates))\r\n",
    "print(paintings)"
   ],
   "outputs": [
    {
     "output_type": "stream",
     "name": "stdout",
     "text": [
      "[('The Two Fridas', 1939), ('My Dress Hangs Here', 1933), ('Tree of Hope', 1946), ('Self Portrait With Monkeys', 1940)]\n"
     ]
    }
   ],
   "metadata": {
    "collapsed": true
   }
  },
  {
   "cell_type": "markdown",
   "source": [
    "## Task 4\n",
    "There were some last minute additions to the show that we need to add to our list. Append the following paintings to our `paintings` list then re-print to check they were added correctly:\n",
    "- 'The Broken Column', 1944\n",
    "- 'The Wounded Deer', 1946\n",
    "- 'Me and My Doll', 1937\n",
    "\n",
    "Hint: Make sure to append each painting individually and that you're appending them as tuples, not lists. "
   ],
   "metadata": {}
  },
  {
   "cell_type": "code",
   "execution_count": 8,
   "source": [
    "paintings.append(('The Broken Column', 1944))\r\n",
    "paintings.append(('The Wounded Deer', 1946))\r\n",
    "paintings.append(('Me and My Doll', 1937))\r\n",
    "print(paintings)"
   ],
   "outputs": [
    {
     "output_type": "stream",
     "name": "stdout",
     "text": [
      "[('The Two Fridas', 1939), ('My Dress Hangs Here', 1933), ('Tree of Hope', 1946), ('Self Portrait With Monkeys', 1940), ['The Broken Column', 1944], ('The Broken Column', 1944), ('The Broken Column', 1944), ('The Wounded Deer', 1946), ('Me and My Doll', 1937)]\n"
     ]
    }
   ],
   "metadata": {
    "collapsed": true
   }
  },
  {
   "cell_type": "markdown",
   "source": [
    "## Task 5\n",
    "Since each of these paintings is going to be in the audio tour, they each need a unique identification number.\n",
    "But before we assign them a number, we first need to check how many paintings there are in total.\n",
    "\n",
    "Find the length of the `paintings` list."
   ],
   "metadata": {}
  },
  {
   "cell_type": "code",
   "execution_count": 9,
   "source": [
    "print(len(paintings))"
   ],
   "outputs": [
    {
     "output_type": "stream",
     "name": "stdout",
     "text": [
      "9\n"
     ]
    }
   ],
   "metadata": {
    "collapsed": true
   }
  },
  {
   "cell_type": "markdown",
   "source": [
    "## Task 6\n",
    "Use the `range` method to generate a list of identification numbers that starts at 1 and is equal in length to our list of items. \n",
    "Save the list to the variable `audio_tour_number` and check your work by printing the list."
   ],
   "metadata": {}
  },
  {
   "cell_type": "code",
   "execution_count": 12,
   "source": [
    "audio_tour_number = list(range(1, len(paintings) + 1))\r\n",
    "print(audio_tour_number)"
   ],
   "outputs": [
    {
     "output_type": "stream",
     "name": "stdout",
     "text": [
      "[1, 2, 3, 4, 5, 6, 7, 8, 9]\n"
     ]
    }
   ],
   "metadata": {
    "collapsed": true
   }
  },
  {
   "cell_type": "markdown",
   "source": [
    "## Task 7 \n",
    "\n",
    "We're finally read to create our master list. \n",
    "Zip the `audio_tour_number` list to the `paintings` list and save it as `master_list`.\n",
    "\n",
    "Hint: Make sure to convert the zipped object into a list using the `list()` function."
   ],
   "metadata": {}
  },
  {
   "cell_type": "code",
   "execution_count": 13,
   "source": [
    "master_list = list(zip(audio_tour_number, paintings))"
   ],
   "outputs": [],
   "metadata": {
    "collapsed": true
   }
  },
  {
   "cell_type": "markdown",
   "source": [
    "## Task 8 \n",
    "Print the `master_list` to the terminal."
   ],
   "metadata": {}
  },
  {
   "cell_type": "code",
   "execution_count": 14,
   "source": [
    "print(master_list)"
   ],
   "outputs": [
    {
     "output_type": "stream",
     "name": "stdout",
     "text": [
      "[(1, ('The Two Fridas', 1939)), (2, ('My Dress Hangs Here', 1933)), (3, ('Tree of Hope', 1946)), (4, ('Self Portrait With Monkeys', 1940)), (5, ['The Broken Column', 1944]), (6, ('The Broken Column', 1944)), (7, ('The Broken Column', 1944)), (8, ('The Wounded Deer', 1946)), (9, ('Me and My Doll', 1937))]\n"
     ]
    }
   ],
   "metadata": {
    "collapsed": true
   }
  },
  {
   "cell_type": "code",
   "execution_count": null,
   "source": [],
   "outputs": [],
   "metadata": {}
  }
 ],
 "metadata": {
  "kernelspec": {
   "name": "python3",
   "display_name": "Python 3.9.6 64-bit"
  },
  "language_info": {
   "codemirror_mode": {
    "name": "ipython",
    "version": 3
   },
   "file_extension": ".py",
   "mimetype": "text/x-python",
   "name": "python",
   "nbconvert_exporter": "python",
   "pygments_lexer": "ipython3",
   "version": "3.9.6"
  },
  "interpreter": {
   "hash": "00fbd0d99ed903e2cc7cebe1d514a4d54c4a75e90b16268ebd18f3654f440443"
  }
 },
 "nbformat": 4,
 "nbformat_minor": 2
}